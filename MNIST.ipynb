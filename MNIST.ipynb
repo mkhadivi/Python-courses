{
 "cells": [
  {
   "cell_type": "code",
   "execution_count": 1,
   "metadata": {},
   "outputs": [],
   "source": [
    "import tensorflow.keras"
   ]
  },
  {
   "cell_type": "code",
   "execution_count": 2,
   "metadata": {},
   "outputs": [],
   "source": [
    "from keras.datasets import mnist"
   ]
  },
  {
   "cell_type": "code",
   "execution_count": 3,
   "metadata": {},
   "outputs": [],
   "source": [
    "(train_images, train_labels), (test_images, test_labels) = mnist.load_data()"
   ]
  },
  {
   "cell_type": "code",
   "execution_count": 8,
   "metadata": {},
   "outputs": [
    {
     "data": {
      "text/plain": [
       "array([[  0,   0,   0,   0,   0,   0,   0,   0,   0,   0,   0,   0,   0,\n",
       "          0,   0,   0,   0,   0,   0,   0,   0,   0,   0,   0,   0,   0,\n",
       "          0,   0],\n",
       "       [  0,   0,   0,   0,   0,   0,   0,   0,   0,   0,   0,   0,   0,\n",
       "          0,   0,   0,   0,   0,   0,   0,   0,   0,   0,   0,   0,   0,\n",
       "          0,   0],\n",
       "       [  0,   0,   0,   0,   0,   0,   0,   0,   0,   0,   0,   0,   0,\n",
       "          0,   0,   0,   0,   0,   0,   0,   0,   0,   0,   0,   0,   0,\n",
       "          0,   0],\n",
       "       [  0,   0,   0,   0,   0,   0,   0,   0,   0,   0,   0,   0,   0,\n",
       "          0,   0,   0,   0,   0,   0,   0,   0,   0,   0,   0,   0,   0,\n",
       "          0,   0],\n",
       "       [  0,   0,   0,   0,   0,   0,   0,   0,   0,   0,   0,   0,   0,\n",
       "          0,   0,   0,   0,   0,   0,   0,   0,   0,   0,   0,   0,   0,\n",
       "          0,   0],\n",
       "       [  0,   0,   0,   0,   0,   0,   0,   0,   0,   0,   0,   0,   3,\n",
       "         18,  18,  18, 126, 136, 175,  26, 166, 255, 247, 127,   0,   0,\n",
       "          0,   0],\n",
       "       [  0,   0,   0,   0,   0,   0,   0,   0,  30,  36,  94, 154, 170,\n",
       "        253, 253, 253, 253, 253, 225, 172, 253, 242, 195,  64,   0,   0,\n",
       "          0,   0],\n",
       "       [  0,   0,   0,   0,   0,   0,   0,  49, 238, 253, 253, 253, 253,\n",
       "        253, 253, 253, 253, 251,  93,  82,  82,  56,  39,   0,   0,   0,\n",
       "          0,   0],\n",
       "       [  0,   0,   0,   0,   0,   0,   0,  18, 219, 253, 253, 253, 253,\n",
       "        253, 198, 182, 247, 241,   0,   0,   0,   0,   0,   0,   0,   0,\n",
       "          0,   0],\n",
       "       [  0,   0,   0,   0,   0,   0,   0,   0,  80, 156, 107, 253, 253,\n",
       "        205,  11,   0,  43, 154,   0,   0,   0,   0,   0,   0,   0,   0,\n",
       "          0,   0],\n",
       "       [  0,   0,   0,   0,   0,   0,   0,   0,   0,  14,   1, 154, 253,\n",
       "         90,   0,   0,   0,   0,   0,   0,   0,   0,   0,   0,   0,   0,\n",
       "          0,   0],\n",
       "       [  0,   0,   0,   0,   0,   0,   0,   0,   0,   0,   0, 139, 253,\n",
       "        190,   2,   0,   0,   0,   0,   0,   0,   0,   0,   0,   0,   0,\n",
       "          0,   0],\n",
       "       [  0,   0,   0,   0,   0,   0,   0,   0,   0,   0,   0,  11, 190,\n",
       "        253,  70,   0,   0,   0,   0,   0,   0,   0,   0,   0,   0,   0,\n",
       "          0,   0],\n",
       "       [  0,   0,   0,   0,   0,   0,   0,   0,   0,   0,   0,   0,  35,\n",
       "        241, 225, 160, 108,   1,   0,   0,   0,   0,   0,   0,   0,   0,\n",
       "          0,   0],\n",
       "       [  0,   0,   0,   0,   0,   0,   0,   0,   0,   0,   0,   0,   0,\n",
       "         81, 240, 253, 253, 119,  25,   0,   0,   0,   0,   0,   0,   0,\n",
       "          0,   0],\n",
       "       [  0,   0,   0,   0,   0,   0,   0,   0,   0,   0,   0,   0,   0,\n",
       "          0,  45, 186, 253, 253, 150,  27,   0,   0,   0,   0,   0,   0,\n",
       "          0,   0],\n",
       "       [  0,   0,   0,   0,   0,   0,   0,   0,   0,   0,   0,   0,   0,\n",
       "          0,   0,  16,  93, 252, 253, 187,   0,   0,   0,   0,   0,   0,\n",
       "          0,   0],\n",
       "       [  0,   0,   0,   0,   0,   0,   0,   0,   0,   0,   0,   0,   0,\n",
       "          0,   0,   0,   0, 249, 253, 249,  64,   0,   0,   0,   0,   0,\n",
       "          0,   0],\n",
       "       [  0,   0,   0,   0,   0,   0,   0,   0,   0,   0,   0,   0,   0,\n",
       "          0,  46, 130, 183, 253, 253, 207,   2,   0,   0,   0,   0,   0,\n",
       "          0,   0],\n",
       "       [  0,   0,   0,   0,   0,   0,   0,   0,   0,   0,   0,   0,  39,\n",
       "        148, 229, 253, 253, 253, 250, 182,   0,   0,   0,   0,   0,   0,\n",
       "          0,   0],\n",
       "       [  0,   0,   0,   0,   0,   0,   0,   0,   0,   0,  24, 114, 221,\n",
       "        253, 253, 253, 253, 201,  78,   0,   0,   0,   0,   0,   0,   0,\n",
       "          0,   0],\n",
       "       [  0,   0,   0,   0,   0,   0,   0,   0,  23,  66, 213, 253, 253,\n",
       "        253, 253, 198,  81,   2,   0,   0,   0,   0,   0,   0,   0,   0,\n",
       "          0,   0],\n",
       "       [  0,   0,   0,   0,   0,   0,  18, 171, 219, 253, 253, 253, 253,\n",
       "        195,  80,   9,   0,   0,   0,   0,   0,   0,   0,   0,   0,   0,\n",
       "          0,   0],\n",
       "       [  0,   0,   0,   0,  55, 172, 226, 253, 253, 253, 253, 244, 133,\n",
       "         11,   0,   0,   0,   0,   0,   0,   0,   0,   0,   0,   0,   0,\n",
       "          0,   0],\n",
       "       [  0,   0,   0,   0, 136, 253, 253, 253, 212, 135, 132,  16,   0,\n",
       "          0,   0,   0,   0,   0,   0,   0,   0,   0,   0,   0,   0,   0,\n",
       "          0,   0],\n",
       "       [  0,   0,   0,   0,   0,   0,   0,   0,   0,   0,   0,   0,   0,\n",
       "          0,   0,   0,   0,   0,   0,   0,   0,   0,   0,   0,   0,   0,\n",
       "          0,   0],\n",
       "       [  0,   0,   0,   0,   0,   0,   0,   0,   0,   0,   0,   0,   0,\n",
       "          0,   0,   0,   0,   0,   0,   0,   0,   0,   0,   0,   0,   0,\n",
       "          0,   0],\n",
       "       [  0,   0,   0,   0,   0,   0,   0,   0,   0,   0,   0,   0,   0,\n",
       "          0,   0,   0,   0,   0,   0,   0,   0,   0,   0,   0,   0,   0,\n",
       "          0,   0]], dtype=uint8)"
      ]
     },
     "execution_count": 8,
     "metadata": {},
     "output_type": "execute_result"
    }
   ],
   "source": [
    "train_images[0]"
   ]
  },
  {
   "cell_type": "code",
   "execution_count": 11,
   "metadata": {},
   "outputs": [
    {
     "data": {
      "text/plain": [
       "<matplotlib.image.AxesImage at 0x21bea142940>"
      ]
     },
     "execution_count": 11,
     "metadata": {},
     "output_type": "execute_result"
    },
    {
     "data": {
      "image/png": "[encoded data removed]",
      "text/plain": [
       "<Figure size 640x480 with 1 Axes>"
      ]
     },
     "metadata": {},
     "output_type": "display_data"
    }
   ],
   "source": [
    "import matplotlib.pyplot as plt\n",
    "\n",
    "plt.imshow(train_images[1000])"
   ]
  },
  {
   "cell_type": "code",
   "execution_count": 19,
   "metadata": {},
   "outputs": [],
   "source": [
    "import numpy as np"
   ]
  },
  {
   "cell_type": "code",
   "execution_count": 13,
   "metadata": {},
   "outputs": [],
   "source": [
    "train_images = train_images.reshape((60000, 28 * 28))\n",
    "train_images = train_images.astype(\"float32\") / 255\n",
    "\n",
    "test_images = test_images.reshape((10000, 28 * 28))\n",
    "test_images = test_images.astype(\"float32\") / 255"
   ]
  },
  {
   "cell_type": "code",
   "execution_count": 21,
   "metadata": {},
   "outputs": [
    {
     "name": "stdout",
     "output_type": "stream",
     "text": [
      "Epoch 1/100\n",
      "375/375 [==============================] - 6s 14ms/step - loss: 0.2959 - accuracy: 0.9152 - val_loss: 0.1550 - val_accuracy: 0.9567\n",
      "Epoch 2/100\n",
      "375/375 [==============================] - 5s 13ms/step - loss: 0.1230 - accuracy: 0.9638 - val_loss: 0.1163 - val_accuracy: 0.9650\n",
      "Epoch 3/100\n",
      "375/375 [==============================] - 5s 13ms/step - loss: 0.0806 - accuracy: 0.9764 - val_loss: 0.0908 - val_accuracy: 0.9723\n",
      "Epoch 4/100\n",
      "375/375 [==============================] - 5s 12ms/step - loss: 0.0581 - accuracy: 0.9831 - val_loss: 0.0875 - val_accuracy: 0.9737\n",
      "Epoch 5/100\n",
      "375/375 [==============================] - 4s 12ms/step - loss: 0.0435 - accuracy: 0.9875 - val_loss: 0.0861 - val_accuracy: 0.9743\n",
      "Epoch 6/100\n",
      "375/375 [==============================] - 4s 12ms/step - loss: 0.0321 - accuracy: 0.9912 - val_loss: 0.0728 - val_accuracy: 0.9789\n",
      "Epoch 7/100\n",
      "375/375 [==============================] - 5s 12ms/step - loss: 0.0241 - accuracy: 0.9935 - val_loss: 0.0769 - val_accuracy: 0.9783\n",
      "Epoch 8/100\n",
      "375/375 [==============================] - 5s 12ms/step - loss: 0.0179 - accuracy: 0.9950 - val_loss: 0.0742 - val_accuracy: 0.9802\n",
      "Epoch 9/100\n",
      "375/375 [==============================] - 5s 13ms/step - loss: 0.0138 - accuracy: 0.9968 - val_loss: 0.0741 - val_accuracy: 0.9804\n",
      "Epoch 10/100\n",
      "375/375 [==============================] - 5s 12ms/step - loss: 0.0104 - accuracy: 0.9977 - val_loss: 0.0751 - val_accuracy: 0.9798\n",
      "Epoch 11/100\n",
      "375/375 [==============================] - 5s 12ms/step - loss: 0.0074 - accuracy: 0.9985 - val_loss: 0.0809 - val_accuracy: 0.9801\n",
      "Epoch 12/100\n",
      "375/375 [==============================] - 5s 13ms/step - loss: 0.0057 - accuracy: 0.9987 - val_loss: 0.0773 - val_accuracy: 0.9809\n",
      "Epoch 13/100\n",
      "375/375 [==============================] - 5s 13ms/step - loss: 0.0039 - accuracy: 0.9994 - val_loss: 0.0828 - val_accuracy: 0.9800\n",
      "Epoch 14/100\n",
      "375/375 [==============================] - 5s 13ms/step - loss: 0.0028 - accuracy: 0.9996 - val_loss: 0.0799 - val_accuracy: 0.9808\n",
      "Epoch 15/100\n",
      "375/375 [==============================] - 5s 12ms/step - loss: 0.0017 - accuracy: 0.9998 - val_loss: 0.0833 - val_accuracy: 0.9816\n",
      "Epoch 16/100\n",
      "375/375 [==============================] - 5s 13ms/step - loss: 9.7320e-04 - accuracy: 1.0000 - val_loss: 0.0804 - val_accuracy: 0.9818\n",
      "Epoch 17/100\n",
      "375/375 [==============================] - 5s 13ms/step - loss: 7.4924e-04 - accuracy: 1.0000 - val_loss: 0.0820 - val_accuracy: 0.9812\n",
      "Epoch 18/100\n",
      "375/375 [==============================] - 5s 13ms/step - loss: 5.8862e-04 - accuracy: 1.0000 - val_loss: 0.0836 - val_accuracy: 0.9820\n",
      "Epoch 19/100\n",
      "375/375 [==============================] - 6s 16ms/step - loss: 4.7918e-04 - accuracy: 1.0000 - val_loss: 0.0838 - val_accuracy: 0.9818\n",
      "Epoch 20/100\n",
      "375/375 [==============================] - 5s 15ms/step - loss: 4.0891e-04 - accuracy: 1.0000 - val_loss: 0.0846 - val_accuracy: 0.9824\n",
      "Epoch 21/100\n",
      "375/375 [==============================] - 6s 15ms/step - loss: 3.4905e-04 - accuracy: 1.0000 - val_loss: 0.0845 - val_accuracy: 0.9817\n",
      "Epoch 22/100\n",
      "375/375 [==============================] - 5s 13ms/step - loss: 3.2303e-04 - accuracy: 1.0000 - val_loss: 0.0857 - val_accuracy: 0.9820\n",
      "Epoch 23/100\n",
      "375/375 [==============================] - 4s 12ms/step - loss: 2.8735e-04 - accuracy: 1.0000 - val_loss: 0.0862 - val_accuracy: 0.9824\n",
      "Epoch 24/100\n",
      "375/375 [==============================] - 4s 11ms/step - loss: 2.6075e-04 - accuracy: 1.0000 - val_loss: 0.0863 - val_accuracy: 0.9819\n",
      "Epoch 25/100\n",
      "375/375 [==============================] - 4s 12ms/step - loss: 2.4193e-04 - accuracy: 1.0000 - val_loss: 0.0876 - val_accuracy: 0.9822\n",
      "Epoch 26/100\n",
      "375/375 [==============================] - 5s 15ms/step - loss: 2.2424e-04 - accuracy: 1.0000 - val_loss: 0.0876 - val_accuracy: 0.9824\n",
      "Epoch 27/100\n",
      "375/375 [==============================] - 5s 13ms/step - loss: 2.0825e-04 - accuracy: 1.0000 - val_loss: 0.0882 - val_accuracy: 0.9822\n",
      "Epoch 28/100\n",
      "375/375 [==============================] - 5s 13ms/step - loss: 1.9836e-04 - accuracy: 1.0000 - val_loss: 0.0887 - val_accuracy: 0.9826\n",
      "Epoch 29/100\n",
      "375/375 [==============================] - 4s 12ms/step - loss: 1.8605e-04 - accuracy: 1.0000 - val_loss: 0.0881 - val_accuracy: 0.9826\n",
      "Epoch 30/100\n",
      "375/375 [==============================] - 4s 12ms/step - loss: 1.7537e-04 - accuracy: 1.0000 - val_loss: 0.0896 - val_accuracy: 0.9820\n",
      "Epoch 31/100\n",
      "375/375 [==============================] - 4s 12ms/step - loss: 1.6685e-04 - accuracy: 1.0000 - val_loss: 0.0900 - val_accuracy: 0.9822\n",
      "Epoch 32/100\n",
      "375/375 [==============================] - 4s 11ms/step - loss: 1.5900e-04 - accuracy: 1.0000 - val_loss: 0.0901 - val_accuracy: 0.9824\n",
      "Epoch 33/100\n",
      "375/375 [==============================] - 4s 12ms/step - loss: 1.5110e-04 - accuracy: 1.0000 - val_loss: 0.0904 - val_accuracy: 0.9822\n",
      "Epoch 34/100\n",
      "375/375 [==============================] - 5s 15ms/step - loss: 1.4351e-04 - accuracy: 1.0000 - val_loss: 0.0910 - val_accuracy: 0.9822\n",
      "Epoch 35/100\n",
      "375/375 [==============================] - 5s 13ms/step - loss: 1.3755e-04 - accuracy: 1.0000 - val_loss: 0.0909 - val_accuracy: 0.9827\n",
      "Epoch 36/100\n",
      "375/375 [==============================] - 5s 14ms/step - loss: 1.3271e-04 - accuracy: 1.0000 - val_loss: 0.0916 - val_accuracy: 0.9821\n",
      "Epoch 37/100\n",
      "375/375 [==============================] - 5s 13ms/step - loss: 1.2688e-04 - accuracy: 1.0000 - val_loss: 0.0914 - val_accuracy: 0.9825\n",
      "Epoch 38/100\n",
      "375/375 [==============================] - 5s 14ms/step - loss: 1.2193e-04 - accuracy: 1.0000 - val_loss: 0.0925 - val_accuracy: 0.9822\n",
      "Epoch 39/100\n",
      "375/375 [==============================] - 6s 15ms/step - loss: 1.1765e-04 - accuracy: 1.0000 - val_loss: 0.0922 - val_accuracy: 0.9820\n",
      "Epoch 40/100\n",
      "375/375 [==============================] - 6s 15ms/step - loss: 1.1371e-04 - accuracy: 1.0000 - val_loss: 0.0925 - val_accuracy: 0.9828\n",
      "Epoch 41/100\n",
      "375/375 [==============================] - 5s 14ms/step - loss: 1.0978e-04 - accuracy: 1.0000 - val_loss: 0.0928 - val_accuracy: 0.9822\n",
      "Epoch 42/100\n",
      "375/375 [==============================] - 5s 13ms/step - loss: 1.0560e-04 - accuracy: 1.0000 - val_loss: 0.0933 - val_accuracy: 0.9824\n",
      "Epoch 43/100\n",
      "375/375 [==============================] - 5s 13ms/step - loss: 1.0271e-04 - accuracy: 1.0000 - val_loss: 0.0935 - val_accuracy: 0.9822\n",
      "Epoch 44/100\n",
      "375/375 [==============================] - 5s 13ms/step - loss: 9.9331e-05 - accuracy: 1.0000 - val_loss: 0.0939 - val_accuracy: 0.9824\n",
      "Epoch 45/100\n",
      "375/375 [==============================] - 5s 13ms/step - loss: 9.6666e-05 - accuracy: 1.0000 - val_loss: 0.0940 - val_accuracy: 0.9823\n",
      "Epoch 46/100\n",
      "375/375 [==============================] - 5s 13ms/step - loss: 9.3280e-05 - accuracy: 1.0000 - val_loss: 0.0944 - val_accuracy: 0.9820\n",
      "Epoch 47/100\n",
      "375/375 [==============================] - 5s 13ms/step - loss: 9.0936e-05 - accuracy: 1.0000 - val_loss: 0.0945 - val_accuracy: 0.9823\n",
      "Epoch 48/100\n",
      "375/375 [==============================] - 5s 13ms/step - loss: 8.8455e-05 - accuracy: 1.0000 - val_loss: 0.0947 - val_accuracy: 0.9822\n",
      "Epoch 49/100\n",
      "375/375 [==============================] - 5s 14ms/step - loss: 8.6016e-05 - accuracy: 1.0000 - val_loss: 0.0951 - val_accuracy: 0.9826\n",
      "Epoch 50/100\n",
      "375/375 [==============================] - 5s 14ms/step - loss: 8.3675e-05 - accuracy: 1.0000 - val_loss: 0.0950 - val_accuracy: 0.9822\n",
      "Epoch 51/100\n",
      "375/375 [==============================] - 6s 17ms/step - loss: 8.1523e-05 - accuracy: 1.0000 - val_loss: 0.0956 - val_accuracy: 0.9824\n",
      "Epoch 52/100\n",
      "375/375 [==============================] - 6s 15ms/step - loss: 7.9605e-05 - accuracy: 1.0000 - val_loss: 0.0951 - val_accuracy: 0.9823\n",
      "Epoch 53/100\n",
      "375/375 [==============================] - 5s 14ms/step - loss: 7.7672e-05 - accuracy: 1.0000 - val_loss: 0.0957 - val_accuracy: 0.9825\n",
      "Epoch 54/100\n",
      "375/375 [==============================] - 5s 14ms/step - loss: 7.5695e-05 - accuracy: 1.0000 - val_loss: 0.0957 - val_accuracy: 0.9824\n",
      "Epoch 55/100\n",
      "375/375 [==============================] - 4s 12ms/step - loss: 7.4006e-05 - accuracy: 1.0000 - val_loss: 0.0960 - val_accuracy: 0.9822\n",
      "Epoch 56/100\n",
      "375/375 [==============================] - 5s 13ms/step - loss: 7.2230e-05 - accuracy: 1.0000 - val_loss: 0.0964 - val_accuracy: 0.9823\n",
      "Epoch 57/100\n",
      "375/375 [==============================] - 5s 12ms/step - loss: 7.0640e-05 - accuracy: 1.0000 - val_loss: 0.0963 - val_accuracy: 0.9822\n",
      "Epoch 58/100\n",
      "375/375 [==============================] - 4s 12ms/step - loss: 6.8902e-05 - accuracy: 1.0000 - val_loss: 0.0966 - val_accuracy: 0.9825\n",
      "Epoch 59/100\n",
      "375/375 [==============================] - 4s 12ms/step - loss: 6.7564e-05 - accuracy: 1.0000 - val_loss: 0.0966 - val_accuracy: 0.9824\n",
      "Epoch 60/100\n",
      "375/375 [==============================] - 4s 12ms/step - loss: 6.6056e-05 - accuracy: 1.0000 - val_loss: 0.0972 - val_accuracy: 0.9826\n",
      "Epoch 61/100\n",
      "375/375 [==============================] - 5s 12ms/step - loss: 6.4826e-05 - accuracy: 1.0000 - val_loss: 0.0971 - val_accuracy: 0.9820\n",
      "Epoch 62/100\n",
      "375/375 [==============================] - 5s 12ms/step - loss: 6.3433e-05 - accuracy: 1.0000 - val_loss: 0.0972 - val_accuracy: 0.9822\n",
      "Epoch 63/100\n",
      "375/375 [==============================] - 4s 12ms/step - loss: 6.2117e-05 - accuracy: 1.0000 - val_loss: 0.0972 - val_accuracy: 0.9825\n",
      "Epoch 64/100\n",
      "375/375 [==============================] - 4s 12ms/step - loss: 6.1004e-05 - accuracy: 1.0000 - val_loss: 0.0975 - val_accuracy: 0.9824\n",
      "Epoch 65/100\n",
      "375/375 [==============================] - 5s 12ms/step - loss: 5.9690e-05 - accuracy: 1.0000 - val_loss: 0.0976 - val_accuracy: 0.9824\n",
      "Epoch 66/100\n",
      "375/375 [==============================] - 6s 16ms/step - loss: 5.8614e-05 - accuracy: 1.0000 - val_loss: 0.0979 - val_accuracy: 0.9822\n",
      "Epoch 67/100\n",
      "375/375 [==============================] - 5s 13ms/step - loss: 5.7406e-05 - accuracy: 1.0000 - val_loss: 0.0983 - val_accuracy: 0.9822\n",
      "Epoch 68/100\n",
      "375/375 [==============================] - 5s 14ms/step - loss: 5.6634e-05 - accuracy: 1.0000 - val_loss: 0.0982 - val_accuracy: 0.9822\n",
      "Epoch 69/100\n",
      "375/375 [==============================] - 6s 15ms/step - loss: 5.5386e-05 - accuracy: 1.0000 - val_loss: 0.0984 - val_accuracy: 0.9824\n",
      "Epoch 70/100\n",
      "375/375 [==============================] - 5s 14ms/step - loss: 5.4510e-05 - accuracy: 1.0000 - val_loss: 0.0983 - val_accuracy: 0.9822\n",
      "Epoch 71/100\n",
      "375/375 [==============================] - 5s 13ms/step - loss: 5.3485e-05 - accuracy: 1.0000 - val_loss: 0.0985 - val_accuracy: 0.9826\n",
      "Epoch 72/100\n",
      "375/375 [==============================] - 5s 13ms/step - loss: 5.2667e-05 - accuracy: 1.0000 - val_loss: 0.0985 - val_accuracy: 0.9826\n",
      "Epoch 73/100\n",
      "375/375 [==============================] - 5s 14ms/step - loss: 5.1745e-05 - accuracy: 1.0000 - val_loss: 0.0990 - val_accuracy: 0.9825\n",
      "Epoch 74/100\n",
      "375/375 [==============================] - 5s 13ms/step - loss: 5.0880e-05 - accuracy: 1.0000 - val_loss: 0.0992 - val_accuracy: 0.9824\n",
      "Epoch 75/100\n",
      "375/375 [==============================] - 5s 13ms/step - loss: 5.0052e-05 - accuracy: 1.0000 - val_loss: 0.0991 - val_accuracy: 0.9824\n",
      "Epoch 76/100\n",
      "375/375 [==============================] - 5s 14ms/step - loss: 4.9211e-05 - accuracy: 1.0000 - val_loss: 0.0993 - val_accuracy: 0.9820\n",
      "Epoch 77/100\n",
      "375/375 [==============================] - 5s 13ms/step - loss: 4.8501e-05 - accuracy: 1.0000 - val_loss: 0.0995 - val_accuracy: 0.9822\n",
      "Epoch 78/100\n",
      "375/375 [==============================] - 5s 13ms/step - loss: 4.7614e-05 - accuracy: 1.0000 - val_loss: 0.0996 - val_accuracy: 0.9823\n",
      "Epoch 79/100\n",
      "375/375 [==============================] - 5s 13ms/step - loss: 4.6994e-05 - accuracy: 1.0000 - val_loss: 0.0996 - val_accuracy: 0.9823\n",
      "Epoch 80/100\n",
      "375/375 [==============================] - 5s 13ms/step - loss: 4.6277e-05 - accuracy: 1.0000 - val_loss: 0.0997 - val_accuracy: 0.9824\n",
      "Epoch 81/100\n",
      "375/375 [==============================] - 6s 15ms/step - loss: 4.5623e-05 - accuracy: 1.0000 - val_loss: 0.0999 - val_accuracy: 0.9823\n",
      "Epoch 82/100\n",
      "375/375 [==============================] - 6s 16ms/step - loss: 4.4865e-05 - accuracy: 1.0000 - val_loss: 0.0998 - val_accuracy: 0.9823\n",
      "Epoch 83/100\n",
      "375/375 [==============================] - 5s 13ms/step - loss: 4.4298e-05 - accuracy: 1.0000 - val_loss: 0.1000 - val_accuracy: 0.9821\n",
      "Epoch 84/100\n",
      "375/375 [==============================] - 6s 15ms/step - loss: 4.3527e-05 - accuracy: 1.0000 - val_loss: 0.1004 - val_accuracy: 0.9823\n",
      "Epoch 85/100\n",
      "375/375 [==============================] - 6s 16ms/step - loss: 4.2927e-05 - accuracy: 1.0000 - val_loss: 0.1004 - val_accuracy: 0.9826\n",
      "Epoch 86/100\n",
      "375/375 [==============================] - 5s 15ms/step - loss: 4.2387e-05 - accuracy: 1.0000 - val_loss: 0.1003 - val_accuracy: 0.9826\n",
      "Epoch 87/100\n",
      "375/375 [==============================] - 6s 15ms/step - loss: 4.1787e-05 - accuracy: 1.0000 - val_loss: 0.1006 - val_accuracy: 0.9822\n",
      "Epoch 88/100\n",
      "375/375 [==============================] - 6s 17ms/step - loss: 4.1165e-05 - accuracy: 1.0000 - val_loss: 0.1008 - val_accuracy: 0.9824\n",
      "Epoch 89/100\n",
      "375/375 [==============================] - 6s 16ms/step - loss: 4.0685e-05 - accuracy: 1.0000 - val_loss: 0.1008 - val_accuracy: 0.9824\n",
      "Epoch 90/100\n",
      "375/375 [==============================] - 6s 15ms/step - loss: 4.0078e-05 - accuracy: 1.0000 - val_loss: 0.1009 - val_accuracy: 0.9825\n",
      "Epoch 91/100\n",
      "375/375 [==============================] - 6s 15ms/step - loss: 3.9620e-05 - accuracy: 1.0000 - val_loss: 0.1010 - val_accuracy: 0.9825\n",
      "Epoch 92/100\n",
      "375/375 [==============================] - 6s 15ms/step - loss: 3.9095e-05 - accuracy: 1.0000 - val_loss: 0.1009 - val_accuracy: 0.9825\n",
      "Epoch 93/100\n",
      "375/375 [==============================] - 5s 14ms/step - loss: 3.8594e-05 - accuracy: 1.0000 - val_loss: 0.1013 - val_accuracy: 0.9824\n",
      "Epoch 94/100\n",
      "375/375 [==============================] - 6s 15ms/step - loss: 3.8068e-05 - accuracy: 1.0000 - val_loss: 0.1014 - val_accuracy: 0.9824\n",
      "Epoch 95/100\n",
      "375/375 [==============================] - 5s 14ms/step - loss: 3.7573e-05 - accuracy: 1.0000 - val_loss: 0.1014 - val_accuracy: 0.9825\n",
      "Epoch 96/100\n",
      "375/375 [==============================] - 5s 13ms/step - loss: 3.7182e-05 - accuracy: 1.0000 - val_loss: 0.1016 - val_accuracy: 0.9823\n",
      "Epoch 97/100\n",
      "375/375 [==============================] - 5s 13ms/step - loss: 3.6667e-05 - accuracy: 1.0000 - val_loss: 0.1016 - val_accuracy: 0.9825\n",
      "Epoch 98/100\n",
      "375/375 [==============================] - 6s 15ms/step - loss: 3.6247e-05 - accuracy: 1.0000 - val_loss: 0.1017 - val_accuracy: 0.9825\n",
      "Epoch 99/100\n",
      "375/375 [==============================] - 6s 15ms/step - loss: 3.5794e-05 - accuracy: 1.0000 - val_loss: 0.1019 - val_accuracy: 0.9825\n",
      "Epoch 100/100\n",
      "375/375 [==============================] - 6s 16ms/step - loss: 3.5335e-05 - accuracy: 1.0000 - val_loss: 0.1020 - val_accuracy: 0.9823\n"
     ]
    },
    {
     "data": {
      "text/plain": [
       "<keras.callbacks.History at 0x21be8a582e0>"
      ]
     },
     "execution_count": 21,
     "metadata": {},
     "output_type": "execute_result"
    }
   ],
   "source": [
    "from tensorflow.keras import layers\n",
    "\n",
    "model = tensorflow.keras.Sequential([layers.Dense(512, activation=\"relu\"), layers.Dense(10, activation=\"softmax\")])\n",
    "model.compile(optimizer=\"rmsprop\",\n",
    "loss=\"sparse_categorical_crossentropy\",\n",
    "metrics=[\"accuracy\"])\n",
    "model.fit(train_images, train_labels,\n",
    "epochs=100,\n",
    "batch_size=128,\n",
    "validation_split=0.2)"
   ]
  },
  {
   "cell_type": "code",
   "execution_count": 35,
   "metadata": {},
   "outputs": [
    {
     "name": "stdout",
     "output_type": "stream",
     "text": [
      "313/313 [==============================] - 1s 4ms/step - loss: 0.0821 - accuracy: 0.9830\n"
     ]
    }
   ],
   "source": [
    "\n",
    "eval = model.evaluate(test_images, test_labels)"
   ]
  },
  {
   "cell_type": "code",
   "execution_count": 36,
   "metadata": {},
   "outputs": [
    {
     "name": "stdout",
     "output_type": "stream",
     "text": [
      "313/313 [==============================] - 1s 4ms/step\n"
     ]
    }
   ],
   "source": [
    "pred = model.predict(test_images)"
   ]
  },
  {
   "cell_type": "code",
   "execution_count": 37,
   "metadata": {},
   "outputs": [
    {
     "data": {
      "text/plain": [
       "6"
      ]
     },
     "execution_count": 37,
     "metadata": {},
     "output_type": "execute_result"
    }
   ],
   "source": [
    "test_labels[100]"
   ]
  },
  {
   "cell_type": "code",
   "execution_count": 38,
   "metadata": {},
   "outputs": [
    {
     "data": {
      "text/plain": [
       "array([8.3090645e-09, 4.2512875e-11, 8.7775464e-12, 5.5467986e-18,\n",
       "       1.2178656e-11, 1.5424018e-10, 1.0000000e+00, 8.6765295e-15,\n",
       "       2.7835051e-10, 1.1552862e-15], dtype=float32)"
      ]
     },
     "execution_count": 38,
     "metadata": {},
     "output_type": "execute_result"
    }
   ],
   "source": [
    "pred[100]"
   ]
  },
  {
   "cell_type": "code",
   "execution_count": 41,
   "metadata": {},
   "outputs": [
    {
     "data": {
      "text/plain": [
       "(array([6], dtype=int64),)"
      ]
     },
     "execution_count": 41,
     "metadata": {},
     "output_type": "execute_result"
    }
   ],
   "source": [
    "np.where(pred[100] == max(pred[100]))\n"
   ]
  },
  {
   "cell_type": "code",
   "execution_count": null,
   "metadata": {},
   "outputs": [],
   "source": []
  }
 ],
 "metadata": {
  "kernelspec": {
   "display_name": "base",
   "language": "python",
   "name": "python3"
  },
  "language_info": {
   "codemirror_mode": {
    "name": "ipython",
    "version": 3
   },
   "file_extension": ".py",
   "mimetype": "text/x-python",
   "name": "python",
   "nbconvert_exporter": "python",
   "pygments_lexer": "ipython3",
   "version": "3.9.13 (main, Aug 25 2022, 23:51:50) [MSC v.1916 64 bit (AMD64)]"
  },
  "orig_nbformat": 4,
  "vscode": {
   "interpreter": {
    "hash": "9585e6d375335d23f931672f96a7f0df9daadb4241ef576e3cc61f00850968b9"
   }
  }
 },
 "nbformat": 4,
 "nbformat_minor": 2
}
